{
  "nbformat": 4,
  "nbformat_minor": 0,
  "metadata": {
    "colab": {
      "provenance": []
    },
    "kernelspec": {
      "name": "python3",
      "display_name": "Python 3"
    },
    "language_info": {
      "name": "python"
    }
  },
  "cells": [
    {
      "cell_type": "code",
      "source": [
        "pip install pandas"
      ],
      "metadata": {
        "colab": {
          "base_uri": "https://localhost:8080/"
        },
        "id": "qf9ThRbhOt3I",
        "outputId": "ef79d2df-0b50-4cbc-9659-0300ddb035da"
      },
      "execution_count": null,
      "outputs": [
        {
          "output_type": "stream",
          "name": "stdout",
          "text": [
            "Requirement already satisfied: pandas in /usr/local/lib/python3.10/dist-packages (2.0.3)\n",
            "Requirement already satisfied: python-dateutil>=2.8.2 in /usr/local/lib/python3.10/dist-packages (from pandas) (2.8.2)\n",
            "Requirement already satisfied: pytz>=2020.1 in /usr/local/lib/python3.10/dist-packages (from pandas) (2023.4)\n",
            "Requirement already satisfied: tzdata>=2022.1 in /usr/local/lib/python3.10/dist-packages (from pandas) (2024.1)\n",
            "Requirement already satisfied: numpy>=1.21.0 in /usr/local/lib/python3.10/dist-packages (from pandas) (1.25.2)\n",
            "Requirement already satisfied: six>=1.5 in /usr/local/lib/python3.10/dist-packages (from python-dateutil>=2.8.2->pandas) (1.16.0)\n"
          ]
        }
      ]
    },
    {
      "cell_type": "code",
      "source": [
        "import pandas as pd"
      ],
      "metadata": {
        "id": "sBJAm8eJOyf-"
      },
      "execution_count": 2,
      "outputs": []
    },
    {
      "cell_type": "code",
      "source": [
        "df = pd.read_csv(\"/content/drive/MyDrive/datos.csv\")"
      ],
      "metadata": {
        "id": "SkKbtzy5kcJr"
      },
      "execution_count": 3,
      "outputs": []
    },
    {
      "cell_type": "code",
      "source": [
        "print (df)"
      ],
      "metadata": {
        "colab": {
          "base_uri": "https://localhost:8080/"
        },
        "id": "VjpfUWGzbYhy",
        "outputId": "f467fce3-195e-4b83-916d-55a34b18445c"
      },
      "execution_count": 4,
      "outputs": [
        {
          "output_type": "stream",
          "name": "stdout",
          "text": [
            "       Incident_ID        Date                               School  \\\n",
            "0    20220620ILGRC  2022-06-20         Gresham School of Excellence   \n",
            "1    20220613WAMAE  2022-06-13                  Mariner High School   \n",
            "2    20220610ALBYB  2022-06-10                  Byhalia High School   \n",
            "3    20220609ALWAG  2022-06-09        Walnut Park Elementary School   \n",
            "4    20220608ARLIL  2022-06-08      Little Rock School District Bus   \n",
            "..             ...         ...                                  ...   \n",
            "810  20170127ILSCN  2017-01-27       Thomas G Scullen Middle School   \n",
            "811  20170120OHWEW  2017-01-20       West Liberty-Salem High School   \n",
            "812  20170117FLFRE  2017-01-17    Franklin County Elementary School   \n",
            "813  20170110ALALA  2017-01-10         Alexander City Middle School   \n",
            "814  20170101DELAH  2017-01-01  Lake Forest South Elementary School   \n",
            "\n",
            "               City State                                            Summary  \\\n",
            "0           Chicago    IL           3 people shot on elementary school field   \n",
            "1           Everett    WA  Shots fired in parking lot by teen during afte...   \n",
            "2           Byhalia    MS    Student fired gun in parking lot during dispute   \n",
            "3           Gadsden    AL  Man fatally shot by SRO while trying to break-...   \n",
            "4       Little Rock    AR       Shots struck school bus driving student home   \n",
            "..              ...   ...                                                ...   \n",
            "810      Naperville    IL  Adult male fatally shot in the parking lot whi...   \n",
            "811    West Liberty    OH  Student snuck shotgun into school, prepared in...   \n",
            "812       Eastpoint    FL  Gun discharged in car while parent was picking...   \n",
            "813  Alexander City    AL   Student showing off gun, accidentally discharged   \n",
            "814      Harrington    DE  Fight broke out among teens playing football o...   \n",
            "\n",
            "              Targets  \n",
            "0                Both  \n",
            "1    Victims Targeted  \n",
            "2    Victims Targeted  \n",
            "3                 NaN  \n",
            "4                Both  \n",
            "..                ...  \n",
            "810  Victims Targeted  \n",
            "811   Random Shooting  \n",
            "812           Neither  \n",
            "813           Neither  \n",
            "814               NaN  \n",
            "\n",
            "[815 rows x 7 columns]\n"
          ]
        }
      ]
    },
    {
      "cell_type": "code",
      "source": [
        "\n",
        "print(df.dtypes)"
      ],
      "metadata": {
        "colab": {
          "base_uri": "https://localhost:8080/"
        },
        "id": "ml9nSYZYboji",
        "outputId": "757ebb71-b6d9-4c28-df04-fb561979cd17"
      },
      "execution_count": 5,
      "outputs": [
        {
          "output_type": "stream",
          "name": "stdout",
          "text": [
            "Incident_ID    object\n",
            "Date           object\n",
            "School         object\n",
            "City           object\n",
            "State          object\n",
            "Summary        object\n",
            "Targets        object\n",
            "dtype: object\n"
          ]
        }
      ]
    },
    {
      "cell_type": "code",
      "source": [
        "\n",
        "print(df.head())\n"
      ],
      "metadata": {
        "colab": {
          "base_uri": "https://localhost:8080/"
        },
        "id": "5BBYLPbNs7ns",
        "outputId": "cd16234c-d694-4a7d-e4ee-0436489f85c7"
      },
      "execution_count": 6,
      "outputs": [
        {
          "output_type": "stream",
          "name": "stdout",
          "text": [
            "     Incident_ID        Date                           School         City  \\\n",
            "0  20220620ILGRC  2022-06-20     Gresham School of Excellence      Chicago   \n",
            "1  20220613WAMAE  2022-06-13              Mariner High School      Everett   \n",
            "2  20220610ALBYB  2022-06-10              Byhalia High School      Byhalia   \n",
            "3  20220609ALWAG  2022-06-09    Walnut Park Elementary School      Gadsden   \n",
            "4  20220608ARLIL  2022-06-08  Little Rock School District Bus  Little Rock   \n",
            "\n",
            "  State                                            Summary           Targets  \n",
            "0    IL           3 people shot on elementary school field              Both  \n",
            "1    WA  Shots fired in parking lot by teen during afte...  Victims Targeted  \n",
            "2    MS    Student fired gun in parking lot during dispute  Victims Targeted  \n",
            "3    AL  Man fatally shot by SRO while trying to break-...               NaN  \n",
            "4    AR       Shots struck school bus driving student home              Both  \n"
          ]
        }
      ]
    },
    {
      "cell_type": "code",
      "source": [
        "print(df.describe())"
      ],
      "metadata": {
        "colab": {
          "base_uri": "https://localhost:8080/"
        },
        "id": "xrXkc3OvtHC4",
        "outputId": "7d9c51e6-b82e-46ab-e7b6-6778c7090376"
      },
      "execution_count": 7,
      "outputs": [
        {
          "output_type": "stream",
          "name": "stdout",
          "text": [
            "          Incident_ID        Date                 School     City State  \\\n",
            "count             815         815                    814      815   815   \n",
            "unique            814         589                    767      475    49   \n",
            "top     20210902CASAL  2021-09-02  Roosevelt High School  Chicago    CA   \n",
            "freq                2           6                      4       26    63   \n",
            "\n",
            "                                             Summary           Targets  \n",
            "count                                            815               653  \n",
            "unique                                           807                 4  \n",
            "top     Man found fatally shot in school parking lot  Victims Targeted  \n",
            "freq                                               2               342  \n"
          ]
        }
      ]
    },
    {
      "cell_type": "code",
      "source": [
        "df_final = df.dropna(subset=['Incident_ID'], axis=0)"
      ],
      "metadata": {
        "id": "Ipoh6qsFtn_q"
      },
      "execution_count": 14,
      "outputs": []
    },
    {
      "cell_type": "code",
      "source": [
        "df_final = df.dropna(subset=['Date'], axis=0)"
      ],
      "metadata": {
        "id": "CORkPfqatsn-"
      },
      "execution_count": 9,
      "outputs": []
    },
    {
      "cell_type": "code",
      "source": [
        "df_final = df.dropna(subset=['School'], axis=0)"
      ],
      "metadata": {
        "id": "pSBzq0ajtvTQ"
      },
      "execution_count": 10,
      "outputs": []
    },
    {
      "cell_type": "code",
      "source": [
        "df_final = df.dropna(subset=['City'], axis=0)"
      ],
      "metadata": {
        "id": "GnbqZQn1tyxT"
      },
      "execution_count": 11,
      "outputs": []
    },
    {
      "cell_type": "code",
      "source": [
        "df_final = df.dropna(subset=['Summary'], axis=0)"
      ],
      "metadata": {
        "id": "wZJYubzntz_7"
      },
      "execution_count": 16,
      "outputs": []
    },
    {
      "cell_type": "code",
      "source": [
        "df_final = df.dropna(subset=['State'], axis=0)"
      ],
      "metadata": {
        "id": "YTgt3Muot0gi"
      },
      "execution_count": 17,
      "outputs": []
    },
    {
      "cell_type": "code",
      "source": [
        "df_final = df.dropna(subset=['Targets'], axis=0)"
      ],
      "metadata": {
        "id": "2-1g2Alet1NM"
      },
      "execution_count": 18,
      "outputs": []
    },
    {
      "cell_type": "code",
      "source": [
        "print (df)"
      ],
      "metadata": {
        "colab": {
          "base_uri": "https://localhost:8080/"
        },
        "id": "JOEMndYPupny",
        "outputId": "99e09f61-b796-47fa-fc65-34f8f1aa9313"
      },
      "execution_count": 19,
      "outputs": [
        {
          "output_type": "stream",
          "name": "stdout",
          "text": [
            "       Incident_ID        Date                               School  \\\n",
            "0    20220620ILGRC  2022-06-20         Gresham School of Excellence   \n",
            "1    20220613WAMAE  2022-06-13                  Mariner High School   \n",
            "2    20220610ALBYB  2022-06-10                  Byhalia High School   \n",
            "3    20220609ALWAG  2022-06-09        Walnut Park Elementary School   \n",
            "4    20220608ARLIL  2022-06-08      Little Rock School District Bus   \n",
            "..             ...         ...                                  ...   \n",
            "810  20170127ILSCN  2017-01-27       Thomas G Scullen Middle School   \n",
            "811  20170120OHWEW  2017-01-20       West Liberty-Salem High School   \n",
            "812  20170117FLFRE  2017-01-17    Franklin County Elementary School   \n",
            "813  20170110ALALA  2017-01-10         Alexander City Middle School   \n",
            "814  20170101DELAH  2017-01-01  Lake Forest South Elementary School   \n",
            "\n",
            "               City State                                            Summary  \\\n",
            "0           Chicago    IL           3 people shot on elementary school field   \n",
            "1           Everett    WA  Shots fired in parking lot by teen during afte...   \n",
            "2           Byhalia    MS    Student fired gun in parking lot during dispute   \n",
            "3           Gadsden    AL  Man fatally shot by SRO while trying to break-...   \n",
            "4       Little Rock    AR       Shots struck school bus driving student home   \n",
            "..              ...   ...                                                ...   \n",
            "810      Naperville    IL  Adult male fatally shot in the parking lot whi...   \n",
            "811    West Liberty    OH  Student snuck shotgun into school, prepared in...   \n",
            "812       Eastpoint    FL  Gun discharged in car while parent was picking...   \n",
            "813  Alexander City    AL   Student showing off gun, accidentally discharged   \n",
            "814      Harrington    DE  Fight broke out among teens playing football o...   \n",
            "\n",
            "              Targets  \n",
            "0                Both  \n",
            "1    Victims Targeted  \n",
            "2    Victims Targeted  \n",
            "3                 NaN  \n",
            "4                Both  \n",
            "..                ...  \n",
            "810  Victims Targeted  \n",
            "811   Random Shooting  \n",
            "812           Neither  \n",
            "813           Neither  \n",
            "814               NaN  \n",
            "\n",
            "[815 rows x 7 columns]\n"
          ]
        }
      ]
    },
    {
      "cell_type": "code",
      "source": [
        "df_limpio = df.dropna()\n",
        "\n",
        "print(df_limpio)"
      ],
      "metadata": {
        "colab": {
          "base_uri": "https://localhost:8080/"
        },
        "id": "rul27fuizosS",
        "outputId": "386eddbf-71a2-40ec-b2b2-7ce1404598d0"
      },
      "execution_count": 20,
      "outputs": [
        {
          "output_type": "stream",
          "name": "stdout",
          "text": [
            "       Incident_ID        Date                             School  \\\n",
            "0    20220620ILGRC  2022-06-20       Gresham School of Excellence   \n",
            "1    20220613WAMAE  2022-06-13                Mariner High School   \n",
            "2    20220610ALBYB  2022-06-10                Byhalia High School   \n",
            "4    20220608ARLIL  2022-06-08    Little Rock School District Bus   \n",
            "6    20220605INWEG  2022-06-05       West Side Leadership Academy   \n",
            "..             ...         ...                                ...   \n",
            "809  20170127SCSOA  2017-01-27            South Aiken High School   \n",
            "810  20170127ILSCN  2017-01-27     Thomas G Scullen Middle School   \n",
            "811  20170120OHWEW  2017-01-20     West Liberty-Salem High School   \n",
            "812  20170117FLFRE  2017-01-17  Franklin County Elementary School   \n",
            "813  20170110ALALA  2017-01-10       Alexander City Middle School   \n",
            "\n",
            "               City State                                            Summary  \\\n",
            "0           Chicago    IL           3 people shot on elementary school field   \n",
            "1           Everett    WA  Shots fired in parking lot by teen during afte...   \n",
            "2           Byhalia    MS    Student fired gun in parking lot during dispute   \n",
            "4       Little Rock    AR       Shots struck school bus driving student home   \n",
            "6              Gary    IN      2 teens shot following high school graduation   \n",
            "..              ...   ...                                                ...   \n",
            "809           Aiken    SC      Fight outside basketball game (rival schools)   \n",
            "810      Naperville    IL  Adult male fatally shot in the parking lot whi...   \n",
            "811    West Liberty    OH  Student snuck shotgun into school, prepared in...   \n",
            "812       Eastpoint    FL  Gun discharged in car while parent was picking...   \n",
            "813  Alexander City    AL   Student showing off gun, accidentally discharged   \n",
            "\n",
            "              Targets  \n",
            "0                Both  \n",
            "1    Victims Targeted  \n",
            "2    Victims Targeted  \n",
            "4                Both  \n",
            "6                Both  \n",
            "..                ...  \n",
            "809              Both  \n",
            "810  Victims Targeted  \n",
            "811   Random Shooting  \n",
            "812           Neither  \n",
            "813           Neither  \n",
            "\n",
            "[652 rows x 7 columns]\n"
          ]
        }
      ]
    },
    {
      "cell_type": "code",
      "source": [
        "ciudades_frecuentes = df['City'].value_counts()\n",
        "\n",
        "print(ciudades_frecuentes)"
      ],
      "metadata": {
        "colab": {
          "base_uri": "https://localhost:8080/"
        },
        "id": "FQAo8CnN4Aqx",
        "outputId": "4a60c7d2-7a11-45b7-e740-7872dde7fe7c"
      },
      "execution_count": 22,
      "outputs": [
        {
          "output_type": "stream",
          "name": "stdout",
          "text": [
            "City\n",
            "Chicago         26\n",
            "Philadelphia    17\n",
            "Houston         13\n",
            "Los Angeles     11\n",
            "Memphis         11\n",
            "                ..\n",
            "Owensboro        1\n",
            "Burlington       1\n",
            "Santa Maria      1\n",
            "Owings Mills     1\n",
            "Harrington       1\n",
            "Name: count, Length: 475, dtype: int64\n"
          ]
        }
      ]
    },
    {
      "cell_type": "code",
      "source": [
        "estados_frecuentes = df['State'].value_counts()\n",
        "\n",
        "print(estados_frecuentes)"
      ],
      "metadata": {
        "colab": {
          "base_uri": "https://localhost:8080/"
        },
        "id": "ks3W-jmh4MQ0",
        "outputId": "7cb08717-b8e7-4dc3-9c2e-40f37111ae30"
      },
      "execution_count": 24,
      "outputs": [
        {
          "output_type": "stream",
          "name": "stdout",
          "text": [
            "State\n",
            "CA    63\n",
            "IL    54\n",
            "TX    52\n",
            "PA    39\n",
            "FL    38\n",
            "GA    37\n",
            "OH    37\n",
            "VA    32\n",
            "NC    30\n",
            "NY    30\n",
            "TN    29\n",
            "AL    28\n",
            "MI    24\n",
            "WA    21\n",
            "MD    21\n",
            "SC    18\n",
            "LA    17\n",
            "MO    17\n",
            "IN    16\n",
            "CO    15\n",
            "AR    14\n",
            "KY    13\n",
            "WI    13\n",
            "NM    13\n",
            "OR    12\n",
            "NJ    11\n",
            "MN    11\n",
            "KS    11\n",
            "MS    10\n",
            "DC     9\n",
            "OK     8\n",
            "CT     7\n",
            "IA     7\n",
            "MA     7\n",
            "UT     6\n",
            "AZ     6\n",
            "NV     5\n",
            "NE     5\n",
            "DE     4\n",
            "AK     3\n",
            "RI     3\n",
            "WV     3\n",
            "NH     3\n",
            "MT     3\n",
            "ME     2\n",
            "ND     2\n",
            "ID     2\n",
            "VT     2\n",
            "SD     2\n",
            "Name: count, dtype: int64\n"
          ]
        }
      ]
    },
    {
      "cell_type": "code",
      "source": [
        "ciudad_estado_frecuente = df.groupby(['City', 'State']).size().sort_values(ascending=False)\n",
        "\n",
        "print(ciudad_estado_frecuente)"
      ],
      "metadata": {
        "colab": {
          "base_uri": "https://localhost:8080/"
        },
        "id": "KpH8Jv4v4bFR",
        "outputId": "6f0f1c66-f492-4ec3-dd9e-44c11370e98d"
      },
      "execution_count": 26,
      "outputs": [
        {
          "output_type": "stream",
          "name": "stdout",
          "text": [
            "City            State\n",
            "Chicago         IL       26\n",
            "Philadelphia    PA       16\n",
            "Houston         TX       13\n",
            "Memphis         TN       11\n",
            "Los Angeles     CA       11\n",
            "                         ..\n",
            "Hendersonville  NC        1\n",
            "Hazelwood       MO        1\n",
            "Hayward         CA        1\n",
            "Hauppauge       NY        1\n",
            "Yorktown        VA        1\n",
            "Length: 506, dtype: int64\n"
          ]
        }
      ]
    },
    {
      "cell_type": "code",
      "source": [
        "ciudad_estado_frecuencia = df.groupby(['City', 'State']).size()"
      ],
      "metadata": {
        "id": "4U2Nzc-l48Qv"
      },
      "execution_count": 28,
      "outputs": []
    },
    {
      "cell_type": "code",
      "source": [
        "ciudad_estado_ordenado = ciudad_estado_frecuencia.sort_values(ascending=False)"
      ],
      "metadata": {
        "id": "KBmDS4XM5F34"
      },
      "execution_count": 29,
      "outputs": []
    },
    {
      "cell_type": "code",
      "source": [
        "top_50_ciudades_estados = ciudad_estado_ordenado.head(50)"
      ],
      "metadata": {
        "id": "JdMJ3nwk5JVA"
      },
      "execution_count": 30,
      "outputs": []
    },
    {
      "cell_type": "code",
      "source": [
        "df_top_50 = top_50_ciudades_estados.reset_index(name='repeticiones')\n",
        "\n",
        "print(df_top_50)"
      ],
      "metadata": {
        "colab": {
          "base_uri": "https://localhost:8080/"
        },
        "id": "MpZTF86c5OP5",
        "outputId": "2b51be65-3240-4ad3-ba3c-7a300f199216"
      },
      "execution_count": 31,
      "outputs": [
        {
          "output_type": "stream",
          "name": "stdout",
          "text": [
            "                City State  repeticiones\n",
            "0            Chicago    IL            26\n",
            "1       Philadelphia    PA            16\n",
            "2            Houston    TX            13\n",
            "3            Memphis    TN            11\n",
            "4        Los Angeles    CA            11\n",
            "5       Jacksonville    FL            10\n",
            "6           Columbus    OH            10\n",
            "7         Washington    DC             9\n",
            "8           Portland    OR             9\n",
            "9          Charlotte    NC             8\n",
            "10            Dallas    TX             8\n",
            "11         Baltimore    MD             7\n",
            "12           Atlanta    GA             7\n",
            "13        Fort Worth    TX             6\n",
            "14         Milwaukee    WI             6\n",
            "15            Mobile    AL             6\n",
            "16       Albuquerque    NM             6\n",
            "17            Toledo    OH             5\n",
            "18          Brooklyn    NY             5\n",
            "19          New York    NY             5\n",
            "20        Woodbridge    VA             5\n",
            "21          Rockford    IL             5\n",
            "22       Little Rock    AR             4\n",
            "23         Knoxville    TN             4\n",
            "24         Las Vegas    NV             4\n",
            "25       New Orleans    LA             4\n",
            "26         Champaign    IL             4\n",
            "27         Nashville    TN             4\n",
            "28        Louisville    KY             4\n",
            "29         Cleveland    OH             4\n",
            "30            Yakima    WA             4\n",
            "31       Kansas City    MO             4\n",
            "32        Montgomery    AL             4\n",
            "33         Lexington    KY             4\n",
            "34         St. Louis    MO             4\n",
            "35             Tulsa    OK             3\n",
            "36  Colorado Springs    CO             3\n",
            "37     San Francisco    CA             3\n",
            "38            Fresno    CA             3\n",
            "39        Pine Bluff    AR             3\n",
            "40           Roanoke    VA             3\n",
            "41       Minneapolis    MN             3\n",
            "42     Winston-Salem    NC             3\n",
            "43         Rochester    NY             3\n",
            "44      Grand Rapids    MI             3\n",
            "45            Aurora    CO             3\n",
            "46             Omaha    NE             3\n",
            "47        Portsmouth    VA             3\n",
            "48      Newport News    VA             3\n",
            "49            Denver    CO             3\n"
          ]
        }
      ]
    }
  ]
}