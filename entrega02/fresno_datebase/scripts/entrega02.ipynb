{
  "nbformat": 4,
  "nbformat_minor": 0,
  "metadata": {
    "colab": {
      "provenance": []
    },
    "kernelspec": {
      "name": "python3",
      "display_name": "Python 3"
    },
    "language_info": {
      "name": "python"
    }
  },
  "cells": [
    {
      "cell_type": "code",
      "source": [
        "import pandas as pd\n"
      ],
      "metadata": {
        "id": "bJ41JC05rbZh"
      },
      "execution_count": null,
      "outputs": []
    },
    {
      "cell_type": "code",
      "source": [
        "datos_incidentes=pd.read_csv(\"incidentes.csv\") #Cargar dataframe\n"
      ],
      "metadata": {
        "id": "Ymbugwlr_meB"
      },
      "execution_count": null,
      "outputs": []
    },
    {
      "cell_type": "markdown",
      "source": [
        "# Eliminar columnas\n"
      ],
      "metadata": {
        "id": "nqBsT4ubdRiR"
      }
    },
    {
      "cell_type": "code",
      "source": [
        "df = pd.read_csv('incidentes.csv')\n",
        "\n",
        "df = df.drop(['Quarter', 'Location_Type'], axis=1)\n",
        "df.to_csv('incidentes_limpio.csv', index=False)\n",
        "print(df.head())\n"
      ],
      "metadata": {
        "colab": {
          "base_uri": "https://localhost:8080/"
        },
        "id": "vYyoCHEebRGV",
        "outputId": "6882307e-7bf7-4fc5-cec1-13d5e0762203"
      },
      "execution_count": null,
      "outputs": [
        {
          "output_type": "stream",
          "name": "stdout",
          "text": [
            "     Incident_ID  Month  Day  Year       Date  \\\n",
            "0  20240326GATUA      3   26  2024  3/26/2024   \n",
            "1  20240326MOCHC      3   26  2024  3/26/2024   \n",
            "2  20240326NJWEN      3   26  2024  3/26/2024   \n",
            "3  20240325HIWAW      3   25  2024  3/25/2024   \n",
            "4  20240321NJMAN      3   21  2024  3/21/2024   \n",
            "\n",
            "                                 School  Victims_Killed  Victims_Wounded  \\\n",
            "0             Turner County High School               0                0   \n",
            "1  Charleston Junior Senior High School               0                0   \n",
            "2                 West Side High School               0                2   \n",
            "3             Wailuku Elementary School               0                1   \n",
            "4         Malcolm X Shabazz High School               1                0   \n",
            "\n",
            "   Number_Victims  Shooter_Killed        City State School_Level  \\\n",
            "0               0               0     Ashburn    GA         High   \n",
            "1               0               0  Charleston    MO         High   \n",
            "2               2               0      Newark    NJ         High   \n",
            "3               1               0     Wailuku    HI   Elementary   \n",
            "4               1               0      Newark    NJ         High   \n",
            "\n",
            "               Location During_Classes  Duration_min              Situation  \\\n",
            "0      Basketball Court            NaN           NaN                    NaN   \n",
            "1  Football Field/Track            Yes           1.0  Escalation of Dispute   \n",
            "2       Front of School            Yes           1.0                    NaN   \n",
            "3           Parking Lot             No           1.0  Escalation of Dispute   \n",
            "4  Football Field/Track             No           1.0                    NaN   \n",
            "\n",
            "            Targets Shots_Fired  \n",
            "0               NaN         NaN  \n",
            "1  Victims Targeted           1  \n",
            "2               NaN          99  \n",
            "3               NaN           1  \n",
            "4  Victims Targeted          99  \n"
          ]
        }
      ]
    },
    {
      "cell_type": "markdown",
      "source": [
        "# Scripts de juego de datos\n"
      ],
      "metadata": {
        "id": "wvBvqC1ea9SI"
      }
    },
    {
      "cell_type": "code",
      "source": [
        "conteo_estados = datos_incidentes['State'].value_counts() #datos_incidentes['State'] es para acceder a la columna deseada\n",
        "print(conteo_estados)"
      ],
      "metadata": {
        "colab": {
          "base_uri": "https://localhost:8080/"
        },
        "id": "MWDUaV4tImo7",
        "outputId": "eb98d4e8-a075-4b05-bbf9-1c94bded9931"
      },
      "execution_count": null,
      "outputs": [
        {
          "output_type": "stream",
          "name": "stdout",
          "text": [
            "State\n",
            "CA    102\n",
            "TX     88\n",
            "OH     73\n",
            "IL     73\n",
            "GA     61\n",
            "PA     59\n",
            "FL     58\n",
            "TN     57\n",
            "NY     57\n",
            "NC     52\n",
            "MD     49\n",
            "VA     48\n",
            "MI     44\n",
            "IN     34\n",
            "LA     33\n",
            "AL     33\n",
            "WA     30\n",
            "CO     26\n",
            "WI     25\n",
            "MO     25\n",
            "DC     25\n",
            "SC     21\n",
            "AR     20\n",
            "NJ     20\n",
            "OR     19\n",
            "MN     19\n",
            "KY     18\n",
            "NM     16\n",
            "AZ     16\n",
            "KS     16\n",
            "MS     16\n",
            "MA     13\n",
            "OK     13\n",
            "NV     11\n",
            "CT     11\n",
            "IA     11\n",
            "DE     10\n",
            "UT     10\n",
            "NE      5\n",
            "WV      5\n",
            "RI      4\n",
            "MT      4\n",
            "AK      4\n",
            "ID      4\n",
            "VT      4\n",
            "ME      4\n",
            "NH      3\n",
            "ND      2\n",
            "SD      2\n",
            "HI      1\n",
            "Name: count, dtype: int64\n"
          ]
        }
      ]
    },
    {
      "cell_type": "code",
      "source": [
        "conteo_por_estado_y_año = datos_incidentes.groupby(['State', 'Year']).size().reset_index(name='Count')\n",
        "df_conteo = pd.DataFrame(conteo_por_estado_y_año)\n",
        "print(df_conteo)"
      ],
      "metadata": {
        "colab": {
          "base_uri": "https://localhost:8080/"
        },
        "id": "mU9oRlSnJz6o",
        "outputId": "89635969-2e4c-4a88-ced9-bdb3c4666c35"
      },
      "execution_count": null,
      "outputs": [
        {
          "output_type": "stream",
          "name": "stdout",
          "text": [
            "    State  Year  Count\n",
            "0      AK  2018      1\n",
            "1      AK  2019      1\n",
            "2      AK  2022      1\n",
            "3      AK  2023      1\n",
            "4      AL  2018      4\n",
            "..    ...   ...    ...\n",
            "269    WV  2018      1\n",
            "270    WV  2021      1\n",
            "271    WV  2022      1\n",
            "272    WV  2023      1\n",
            "273    WV  2024      1\n",
            "\n",
            "[274 rows x 3 columns]\n"
          ]
        }
      ]
    },
    {
      "cell_type": "code",
      "source": [
        "data = pd.read_csv('incidentes.csv')\n",
        "\n",
        "casos_con_victimas = (data['Number_Victims'] > 0).sum()\n",
        "print(\"Cantidad de casos con al menos una víctima:\", casos_con_victimas)"
      ],
      "metadata": {
        "colab": {
          "base_uri": "https://localhost:8080/"
        },
        "id": "r4358b-tQ861",
        "outputId": "d361048b-0983-413b-9c38-bc8a6372dafc"
      },
      "execution_count": null,
      "outputs": [
        {
          "output_type": "stream",
          "name": "stdout",
          "text": [
            "Cantidad de casos con al menos una víctima: 702\n"
          ]
        }
      ]
    },
    {
      "cell_type": "code",
      "source": [
        "df = pd.read_csv('incidentes.csv')\n",
        "total_victimas = df['Victims_Killed'].sum()\n",
        "\n",
        "print(\"El total de víctimas fatales en los incidentes es:\", total_victimas)"
      ],
      "metadata": {
        "colab": {
          "base_uri": "https://localhost:8080/"
        },
        "id": "BZUpoTsCepiw",
        "outputId": "9a411f85-75ee-48b5-a60a-c3c6af6eb3f9"
      },
      "execution_count": null,
      "outputs": [
        {
          "output_type": "stream",
          "name": "stdout",
          "text": [
            "El total de víctimas fatales en los incidentes es: 300\n"
          ]
        }
      ]
    }
  ]
}