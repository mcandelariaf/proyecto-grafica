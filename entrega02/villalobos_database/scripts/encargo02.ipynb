{
  "cells": [
    {
      "cell_type": "code",
      "execution_count": 11,
      "metadata": {
        "colab": {
          "base_uri": "https://localhost:8080/"
        },
        "id": "sgTq1rXWAe3b",
        "outputId": "a08c4393-469a-45d3-d9b9-982ba2ca778d"
      },
      "outputs": [
        {
          "name": "stdout",
          "output_type": "stream",
          "text": [
            "                                         case                    location  \\\n",
            "0                               UNLV shooting           Las Vegas, Nevada   \n",
            "1       Maine bowling alley and bar shootings             Lewiston, Maine   \n",
            "2  Jacksonville Dollar General store shooting       Jacksonville, Florida   \n",
            "3            Orange County biker bar shooting  Trabuco Canyon, California   \n",
            "4          Philidelphia neighborhood shooting  Philadelphia, Pennsylvania   \n",
            "\n",
            "       date                                            summary  fatalities  \\\n",
            "0   12/6/23  Anthony Polito, 67, a former university profes...           3   \n",
            "1  10/25/23  Robert Card, 40, an Army reservist and firearm...          18   \n",
            "2   8/26/23  Ryan Palmeter, 21, outfitted in body armor, fa...           3   \n",
            "3   8/23/23  John Snowling, 59, a retired sergeant from the...           3   \n",
            "4    7/3/23  Kimbrady Carriker, 40, wearing a ski mask and ...           5   \n",
            "\n",
            "   injured  total_victims location.1 age_of_shooter  \\\n",
            "0        1              4     School             67   \n",
            "1       13             31      Other             40   \n",
            "2        0              3  workplace             21   \n",
            "3        6              9      Other             59   \n",
            "4        2              7      Other             40   \n",
            "\n",
            "  prior_signs_mental_health_issues  ...  \\\n",
            "0                                -  ...   \n",
            "1                              yes  ...   \n",
            "2                              yes  ...   \n",
            "3                                -  ...   \n",
            "4                              yes  ...   \n",
            "\n",
            "                               mental_health_sources sources_additional_age  \\\n",
            "0                                                  -                      -   \n",
            "1  https://www.nytimes.com/article/lewiston-maine...                      -   \n",
            "2  https://www.nbcnews.com/news/us-news/live-blog...                      -   \n",
            "3                                                  -                      -   \n",
            "4  https://6abc.com/philly-mass-shooting-suspect-...                      -   \n",
            "\n",
            "  latitude longitude   type  year Unnamed: 24 Unnamed: 25 Unnamed: 26  \\\n",
            "0        -         -   mass  2023         NaN         NaN         NaN   \n",
            "1        -         -  Spree  2023         NaN         NaN         NaN   \n",
            "2        -         -   mass  2023         NaN         NaN         NaN   \n",
            "3        -         -   mass  2023         NaN         NaN         NaN   \n",
            "4        -         -   mass  2023         NaN         NaN         NaN   \n",
            "\n",
            "  Unnamed: 27  \n",
            "0         NaN  \n",
            "1         NaN  \n",
            "2         NaN  \n",
            "3         NaN  \n",
            "4         NaN  \n",
            "\n",
            "[5 rows x 28 columns]\n"
          ]
        }
      ],
      "source": [
        "import pandas as pd\n",
        "\n",
        "# Cargar la base de datos\n",
        "tiroteos = pd.read_csv(\"tiroteos.csv\")\n",
        "\n",
        "# Visualizar las primeras filas para entender la estructura de los datos\n",
        "print(tiroteos.head())\n"
      ]
    },
    {
      "cell_type": "code",
      "execution_count": 20,
      "metadata": {
        "colab": {
          "base_uri": "https://localhost:8080/"
        },
        "id": "o9vtle4fJzHy",
        "outputId": "b237c7e4-d87c-4aa6-da51-bbf44686c9ae"
      },
      "outputs": [
        {
          "name": "stdout",
          "output_type": "stream",
          "text": [
            "                                         case                    location  \\\n",
            "0                               UNLV shooting           Las Vegas, Nevada   \n",
            "1       Maine bowling alley and bar shootings             Lewiston, Maine   \n",
            "2  Jacksonville Dollar General store shooting       Jacksonville, Florida   \n",
            "3            Orange County biker bar shooting  Trabuco Canyon, California   \n",
            "4          Philidelphia neighborhood shooting  Philadelphia, Pennsylvania   \n",
            "\n",
            "   fatalities  injured  total_victims age_of_shooter gender  \\\n",
            "0           3        1              4             67      M   \n",
            "1          18       13             31             40      M   \n",
            "2           3        0              3             21      M   \n",
            "3           3        6              9             59      M   \n",
            "4           5        2              7             40      M   \n",
            "\n",
            "  prior_signs_mental_health_issues  \\\n",
            "0                                -   \n",
            "1                              yes   \n",
            "2                              yes   \n",
            "3                                -   \n",
            "4                              yes   \n",
            "\n",
            "                               mental_health_details weapons_obtained_legally  \\\n",
            "0                                                  -                        -   \n",
            "1  Card reportedly spoke of \"hearing voices\" and ...                        -   \n",
            "2  Palmeter was evaluated under Florida's Baker A...                      yes   \n",
            "3                                                  -                        -   \n",
            "4  The perpetrator reportedly posted disturbing c...                      yes   \n",
            "\n",
            "   year  \n",
            "0  2023  \n",
            "1  2023  \n",
            "2  2023  \n",
            "3  2023  \n",
            "4  2023  \n"
          ]
        }
      ],
      "source": [
        "# Filtrar las columnas necesarias\n",
        "tiroteos_limpios = tiroteos[[\"case\", \"location\", \"fatalities\", \"injured\", \"total_victims\",\n",
        "                              \"age_of_shooter\", \"gender\", \"prior_signs_mental_health_issues\", \"mental_health_details\", \"weapons_obtained_legally\",\"year\"]]\n",
        "\n",
        "# Filtrar los datos desde el año 2017 en adelante\n",
        "tiroteos_limpios = tiroteos_limpios[tiroteos_limpios[\"year\"] >= 2017]\n",
        "\n",
        "# Visualizar las primeras filas de la base de datos limpia\n",
        "print(tiroteos_limpios.head())\n",
        "\n",
        "# Guardar la base de datos limpia en un nuevo archivo CSV\n",
        "tiroteos_limpios.to_csv(\"tiroteos_limpios.csv\", index=False)\n"
      ]
    }
  ],
  "metadata": {
    "colab": {
      "provenance": []
    },
    "kernelspec": {
      "display_name": "Python 3",
      "name": "python3"
    },
    "language_info": {
      "name": "python"
    }
  },
  "nbformat": 4,
  "nbformat_minor": 0
}
